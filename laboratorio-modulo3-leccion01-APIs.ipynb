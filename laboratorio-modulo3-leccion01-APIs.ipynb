{
 "cells": [
  {
   "cell_type": "markdown",
   "metadata": {},
   "source": [
    "<div style=\"text-align: center;\">\n",
    "  <img src=\"https://github.com/Hack-io-Data/Imagenes/blob/main/01-LogosHackio/logo_naranja@4x.png?raw=true\" alt=\"esquema\" />\n",
    "</div>"
   ]
  },
  {
   "cell_type": "markdown",
   "metadata": {},
   "source": [
    "# Laboratorio API's \n",
    "\n",
    "SetMagic Productions es una empresa especializada en la provisión de servicios integrales para la realización de rodajes cinematográficos y audiovisuales. Nos dedicamos a facilitar tanto el atrezzo necesario para las producciones como los lugares idóneos para llevar a cabo los rodajes, ya sea en entornos al aire libre o en interiores.\n",
    "\n",
    "**Servicios Ofrecidos:**\n",
    "\n",
    "- **Atrezzo Creativo:** Contamos con un extenso catálogo de atrezzo que abarca desde accesorios hasta muebles y objetos temáticos para ambientar cualquier tipo de  escena.\n",
    "\n",
    "- **Locaciones Únicas:** Nuestra empresa ofrece una amplia selección de locaciones, que incluyen desde escenarios naturales como playas, bosques y montañas, hasta espacios interiores como estudios, casas históricas y edificios emblemáticos.\n",
    "\n",
    "- **Servicios de Producción:** Además de proporcionar atrezzo y locaciones, también ofrecemos servicios de producción audiovisual, incluyendo equipos de filmación, personal técnico y servicios de postproducción.\n",
    "\n",
    "**Herramientas y Tecnologías:**\n",
    "\n",
    "Para recopilar información sobre nuevas locaciones y tendencias en atrezzo, utilizamos herramientas de web scraping como Beautiful Soup y Selenium para extraer datos de sitios web relevantes y redes sociales especializadas en cine y producción audiovisual. También integramos APIs de plataformas de alquiler de locaciones y bases de datos de atrezzo para acceder a información actualizada y detallada.\n",
    "\n",
    "**Almacenamiento de Datos:**\n",
    "\n",
    "La información recopilada mediante web scraping y APIs se almacena en una base de datos no relacional MongoDB. Esta base de datos nos permite organizar eficientemente la información sobre locaciones, atrezzo, clientes y proyectos en curso, facilitando su acceso y gestión.\n",
    "\n",
    "**Objetivo:**\n",
    "\n",
    "Nuestro objetivo principal es proporcionar a nuestros clientes una experiencia fluida y personalizada en la búsqueda y selección de locaciones y atrezzo para sus proyectos audiovisuales. Utilizando tecnologías avanzadas y una amplia red de contactos en la industria, nos esforzamos por ofrecer soluciones creativas y de alta calidad que satisfagan las necesidades específicas de cada producción.\n",
    "\n",
    "\n",
    "# Lab: APIs y Obtención de Datos de Localizaciones para Rodajes\n",
    "\n",
    "En este laboratorio aprenderás a utilizar APIs para obtener información sobre localizaciones de rodaje en la Comunidad de Madrid. A lo largo de este ejercicio, implementarás funciones que te permitirán extraer coordenadas, buscar lugares de interés y almacenar la información en un formato que puedas reutilizar.\n",
    "\n",
    "## Objetivo\n",
    "\n",
    "Obtener información geográfica y sobre posibles localizaciones para rodajes en diferentes municipios de la Comunidad de Madrid, utilizando APIs como **Geopy** y **Foursquare**.\n",
    "\n",
    "### Paso 1: Obtener Coordenadas de los Municipios\n",
    "\n",
    "Primero, necesitas obtener las coordenadas geográficas (latitud y longitud) de cada municipio en la Comunidad de Madrid. Para esto, utilizarás la biblioteca **Geopy** y su funcionalidad para geocodificar. La lista de los municipios de la Comunidad de Madrid es:\n",
    "\n",
    "```python\n",
    "lista_municipios = ['acebeda-la', 'ajalvir', 'alameda-del-valle', 'alamo-el', 'alcala-de-henares', 'alcobendas', 'alcorcon', 'aldea-del-fresno', 'algete', 'alpedrete', 'ambite', 'anchuelo', 'aranjuez', 'arganda-del-rey', 'arroyomolinos', 'atazar-el', 'batres', 'becerril-de-la-sierra', 'belmonte-de-tajo', 'berrueco-el', 'berzosa-del-lozoya', 'boadilla-del-monte', 'boalo-el', 'braojos', 'brea-de-tajo', 'brunete', 'buitrago-del-lozoya', 'bustarviejo', 'cabanillas-de-la-sierra', 'cabrera-la', 'cadalso-de-los-vidrios', 'camarma-de-esteruelas', 'campo-real', 'canencia', 'carabana', 'casarrubuelos', 'cenicientos', 'cercedilla', 'cervera-de-buitrago', 'chapineria', 'chinchon', 'ciempozuelos', 'cobena', 'collado-mediano', 'collado-villalba', 'colmenar-del-arroyo', 'colmenar-de-oreja', 'colmenarejo', 'colmenar-viejo', 'corpa', 'coslada', 'cubas-de-la-sagra', 'daganzo-de-arriba', 'escorial-el', 'estremera', 'fresnedillas-de-la-oliva', 'fresno-de-torote', 'fuenlabrada', 'fuente-el-saz-de-jarama', 'fuentiduena-de-tajo', 'galapagar', 'garganta-de-los-montes', 'gargantilla-del-lozoya-y-pinilla-de-buitrago', 'gascones', 'getafe', 'grinon', 'guadalix-de-la-sierra', 'guadarrama', 'hiruela-la', 'horcajo-de-la-sierra-aoslos', 'horcajuelo-de-la-sierra', 'hoyo-de-manzanares', 'humanes-de-madrid', 'leganes', 'loeches', 'lozoya', 'lozoyuela-navas-sieteiglesias', 'madarcos', 'madrid', 'majadahonda', 'manzanares-el-real', 'meco', 'mejorada-del-campo', 'miraflores-de-la-sierra', 'molar-el', 'molinos-los', 'montejo-de-la-sierra', 'moraleja-de-enmedio', 'moralzarzal', 'morata-de-tajuna', 'mostoles', 'navacerrada', 'navalafuente', 'navalagamella', 'navalcarnero', 'navarredonda-y-san-mames', 'navas-del-rey', 'nuevo-baztan', 'olmeda-de-las-fuentes', 'orusco-de-tajuna', 'paracuellos-de-jarama', 'parla', 'patones', 'pedrezuela', 'pelayos-de-la-presa', 'perales-de-tajuna', 'pezuela-de-las-torres', 'pinilla-del-valle', 'pinto', 'pinuecar-gandullas', 'pozuelo-de-alarcon', 'pozuelo-del-rey', 'pradena-del-rincon', 'puebla-de-la-sierra', 'puentes-viejas-manjiron', 'quijorna', 'rascafria', 'reduena', 'ribatejada', 'rivas-vaciamadrid', 'robledillo-de-la-jara', 'robledo-de-chavela', 'robregordo', 'rozas-de-madrid-las', 'rozas-de-puerto-real', 'san-agustin-del-guadalix', 'san-fernando-de-henares', 'san-lorenzo-de-el-escorial', 'san-martin-de-la-vega', 'san-martin-de-valdeiglesias', 'san-sebastian-de-los-reyes', 'santa-maria-de-la-alameda', 'santorcaz', 'santos-de-la-humosa-los', 'serna-del-monte-la', 'serranillos-del-valle', 'sevilla-la-nueva', 'somosierra', 'soto-del-real', 'talamanca-de-jarama', 'tielmes', 'titulcia', 'torrejon-de-ardoz', 'torrejon-de-la-calzada', 'torrejon-de-velasco', 'torrelaguna', 'torrelodones', 'torremocha-de-jarama', 'torres-de-la-alameda', 'tres-cantos', 'valdaracete', 'valdeavero', 'valdelaguna', 'valdemanco', 'valdemaqueda', 'valdemorillo', 'valdemoro', 'valdeolmos-alalpardo', 'valdepielagos', 'valdetorres-de-jarama', 'valdilecha', 'valverde-de-alcala', 'velilla-de-san-antonio', 'vellon-el', 'venturada', 'villaconejos', 'villa-del-prado', 'villalbilla', 'villamanrique-de-tajo', 'villamanta', 'villamantilla', 'villanueva-de-la-canada', 'villanueva-del-pardillo', 'villanueva-de-perales', 'villar-del-olmo', 'villarejo-de-salvanes', 'villaviciosa-de-odon', 'villavieja-del-lozoya', 'zarzalejo']\n",
    "```\n",
    "\n",
    "1. Instalar y configurar la biblioteca de Geopy para realizar la geocodificación.\n",
    "\n",
    "2. Crear una función que reciba una lista de municipios y devuelva un DataFrame con los nombres de los municipios y sus respectivas coordenadas (latitud y longitud).\n",
    "\n",
    "3. Validar los datos obtenidos para verificar si hay municipios sin coordenadas y resolver posibles problemas, como nombres incorrectos o faltantes.\n",
    "\n",
    "\n",
    "### Paso 2: Buscar Localizaciones Relevantes con la API de Foursquare\n",
    "\n",
    "Una vez obtenidas las coordenadas de los municipios, utilizarás la API de Foursquare para buscar servicios que pueden ser importantes en un rodaje (ej: parques, edificios históricos, plazas).\n",
    "\n",
    "En este punto es importante que reflexiones sobre los servicios o establecimientos clave que considerarías relevantes para establecer una empresa de servicios para rodajes. No hay una única respuesta correcta, ya que depende de la estrategia y visión que tengas. Al menos deberás elegir 5 tipos de servicios que puedan influir en la decisión de ubicación. Ejemplos de estos servicios pueden incluir:\n",
    "\n",
    "- Parques o áreas verdes para rodajes exteriores.\n",
    "\n",
    "- Centros comerciales que faciliten acceso a diferentes necesidades logísticas.\n",
    "\n",
    "- Bares o restaurantes para el catering del equipo.\n",
    "\n",
    "- Tiendas especializadas en disfraces o vestuario.\n",
    "\n",
    "- Alquileres de equipos audiovisuales.\n",
    "\n",
    "Es crucial entender que esta selección depende de la naturaleza y enfoque de la empresa. Tal vez para algunos proyectos sea más importante estar cerca de áreas residenciales o lugares con buena conexión de transporte. Otros proyectos podrían priorizar la proximidad a tiendas especializadas o servicios de entretenimiento. Es vuestra decisión! \n",
    "\n",
    "1. Crear una cuenta en [Foursquare](https://location.foursquare.com/developer/) y obtener la API Key necesaria para realizar las solicitudes. Leer la documentación para entender como funciona. \n",
    "\n",
    "2. Definir una función para realizar búsquedas de lugares cercanos a las coordenadas de cada municipio. Esta función debe permitir filtrar los resultados por categoría y distancia.\n",
    "\n",
    "3. Explorar las categorías disponibles en Foursquare y seleccionar aquellas que se ajusten a los servicios clave que decidáis para vuestra estrategia.\n",
    "\n",
    "4. Aplicar la función de búsqueda a cada municipio, recopilando información sobre los lugares relevantes.\n",
    "\n",
    "Recuerda que la elección de categorías es un punto de análisis clave en este ejercicio, ya que la información que obtendréis será fundamental para decidir la ubicación ideal para vuestra empresa. Aseguraos de justificar vuestras decisiones y considerar diferentes perspectivas. Para cada una de los municipios deberás sacar la información de todos los servicios elegidos. \n",
    "\n",
    "### Paso 3: Limpieza de la Información\n",
    "\n",
    "La información obtenida de Foursquare puede incluir muchos detalles innecesarios. Tu objetivo es quedarte únicamente con los campos relevantes para tu análisis (nombre, dirección, coordenadas, tipo de lugar, etc.).\n",
    "\n",
    "\n",
    "1. Explorar la estructura de los datos obtenidos para identificar los campos importantes y limpiar la información.\n",
    "\n",
    "2. Eliminar duplicados y valores nulos para garantizar la consistencia y calidad de los datos.\n",
    "\n",
    "### Paso 4: Almacenamiento de los Datos\n",
    "\n",
    "Una vez que tengas la información limpia y organizada, almacénala en un archivo CSV que puedas reutilizar en futuros análisis.\n"
   ]
  },
  {
   "cell_type": "markdown",
   "metadata": {},
   "source": [
    "# Documentación extraida\n",
    "\n",
    "https://geopy.readthedocs.io/en/latest/"
   ]
  },
  {
   "cell_type": "code",
   "execution_count": null,
   "metadata": {},
   "outputs": [],
   "source": [
    "# Para instalar la libreria debemos ejecutar el pip install para utilizar geopy\n",
    "!pip install geopy"
   ]
  },
  {
   "cell_type": "code",
   "execution_count": null,
   "metadata": {},
   "outputs": [],
   "source": [
    "# Configuración de geopy\n",
    "from geopy.geocoders import Nominatim\n",
    "from functools import partial\n",
    "\n",
    "geolocator = Nominatim(user_agent=\"my_app\")\n",
    "geocode = partial(geolocator.geocode, language=\"es\")\n",
    "location = geolocator.geocode(\"escorial-el\")\n",
    "print(location.address)\n",
    "# Output: Flatiron Building, 175, 5th Avenue, Flatiron, New York, NYC, New York, ...\n",
    "print((location.latitude, location.longitude))\n",
    "# Output: (40.7410861, -73.9896297241625)\n",
    "print(location.raw)\n",
    "# Output: {'place_id': '9167009604', 'type': 'attraction', ...}\n",
    "\n",
    "# Con una lambda puedes formatear la forma en la que introduces los datos\n",
    "geocode = lambda query: geolocator.geocode(\"%s, Cleveland OH\" % query)\n"
   ]
  },
  {
   "cell_type": "code",
   "execution_count": null,
   "metadata": {},
   "outputs": [],
   "source": [
    "# Adaptador asincrono para Geopy porque por defecto es un adaptador sincrono\n",
    "# Antes de su uso de debe realizar la instalación del modulo aiohttp con: pip install \"geopy[aiohttp]\n",
    "from geopy.adapters import AioHTTPAdapter\n",
    "async with Nominatim(\n",
    "    user_agent=\"specify_your_app_name_here\",\n",
    "    adapter_factory=AioHTTPAdapter,\n",
    ") as geolocator:\n",
    "    location = await geolocator.geocode(\"175 5th Avenue NYC\")\n",
    "    print(location.address)\n",
    "\n",
    "# Esto se utiliza para devolver por defecto la clase Nominatim en caso que salte la excepción GeocoderNotFound. Esta excepción salta cuando el string introducido no lo reconoce geopy\n",
    "from geopy.geocoders import get_geocoder_for_service\n",
    "get_geocoder_for_service(\"nominatim\")"
   ]
  },
  {
   "cell_type": "code",
   "execution_count": null,
   "metadata": {},
   "outputs": [],
   "source": [
    "# Configuración de variables globales. Por ejemplo establecer el timeout por defecto de espera de la petición\n",
    "import geopy.geocoders\n",
    "geopy.geocoders.options.default_user_agent = 'my_app/1'\n",
    "geopy.geocoders.options.default_timeout = 7\n",
    "geolocator = Nominatim()"
   ]
  },
  {
   "cell_type": "code",
   "execution_count": null,
   "metadata": {},
   "outputs": [],
   "source": [
    "# Uso con pandas (Importante)\n",
    "\n",
    "# Si nos salta el error de demasiadas peticiones. Podemos probar:\n",
    "from geopy.extra.rate_limiter import RateLimiter\n",
    "geocode = RateLimiter(geolocator.geocode, min_delay_seconds=1)\n",
    "# Utilizar min_delay_seconds con un valor mayor a 0. Esto lo que va a hacer es añadir un retardo de 1 segundo antes de solicitar la siguiente petición"
   ]
  },
  {
   "cell_type": "markdown",
   "metadata": {},
   "source": [
    "## 1. Obtener coordenadas de los municipios"
   ]
  },
  {
   "cell_type": "code",
   "execution_count": 1,
   "metadata": {},
   "outputs": [],
   "source": [
    "import pandas as pd\n",
    "import numpy as np\n",
    "import requests\n",
    "from tqdm import tqdm\n",
    "from time import sleep\n",
    "import os\n",
    "import dotenv\n",
    "dotenv.load_dotenv()\n",
    "from src.soporte_variables import lista_municipios"
   ]
  },
  {
   "cell_type": "markdown",
   "metadata": {},
   "source": [
    "### Compruebo la cantidad de municipios"
   ]
  },
  {
   "cell_type": "code",
   "execution_count": null,
   "metadata": {},
   "outputs": [],
   "source": [
    "len(lista_municipios)"
   ]
  },
  {
   "cell_type": "markdown",
   "metadata": {},
   "source": [
    "### Función para obtener las coordenadas de cada municipio"
   ]
  },
  {
   "cell_type": "code",
   "execution_count": 46,
   "metadata": {},
   "outputs": [],
   "source": [
    "from geopy.geocoders import Nominatim\n",
    "from functools import partial\n",
    "from geopy.extra.rate_limiter import RateLimiter\n",
    "geocode = RateLimiter(geolocator.geocode, min_delay_seconds=1)\n",
    "geolocator = Nominatim(user_agent=\"my_app\")\n",
    "geocode = partial(geolocator.geocode, language=\"es\")\n",
    "\n",
    "def obtener_latitudes(lista):\n",
    "    diccionario = {}\n",
    "    for elemento in lista:\n",
    "        location = geolocator.geocode(elemento)\n",
    "        diccionario[elemento] = ((location.latitude, location.longitude))\n",
    "    return pd.DataFrame(diccionario)\n",
    "\n",
    "df_latitudes = obtener_latitudes(lista_municipios)\n",
    "df_latitudes.to_csv(\"latitudes.csv\")"
   ]
  },
  {
   "cell_type": "markdown",
   "metadata": {},
   "source": [
    "### Verifico los datos"
   ]
  },
  {
   "cell_type": "code",
   "execution_count": null,
   "metadata": {},
   "outputs": [],
   "source": [
    "df_latitudes = pd.read_csv(\"latitudes.csv\", index_col=0)\n",
    "df_latitudes.isna().sum()\n",
    "\n",
    "# No hay nulos por lo que todos tienen coordenadas"
   ]
  },
  {
   "cell_type": "code",
   "execution_count": null,
   "metadata": {},
   "outputs": [],
   "source": [
    "df_latitudes.shape\n",
    "\n",
    "# Esto quiere decir que todos tienen 2 filas y 179 columnas. En este caso las filas son longitud y latitud. Y las columnas los municipios"
   ]
  },
  {
   "cell_type": "markdown",
   "metadata": {},
   "source": [
    "### 2. Buscar localizaciones relevantes de Foursquare"
   ]
  },
  {
   "cell_type": "code",
   "execution_count": null,
   "metadata": {},
   "outputs": [],
   "source": [
    "# Función\n",
    "import requests\n",
    "from src.soporte_variables import url\n",
    "import dotenv\n",
    "dotenv.load_dotenv()\n",
    "import os\n",
    "key = os.getenv(\"token\")\n",
    "\n",
    "headers = {\n",
    "    \"Accept\": \"application/json\",\n",
    "    \"Authorization\": key\n",
    "}\n",
    "\n",
    "response = requests.request(\"GET\", url, headers=headers)\n",
    "\n",
    "print(response.text)\n",
    "\n",
    "df_latitudes.to_dict()\n",
    "\n"
   ]
  },
  {
   "cell_type": "code",
   "execution_count": 28,
   "metadata": {},
   "outputs": [
    {
     "name": "stdout",
     "output_type": "stream",
     "text": [
      "{0: 41.0869583, 1: -3.624399}\n",
      "https://api.foursquare.com/v3/places/search?ll=41.0869583,-3.624399&radius=50000&categories=10019\n",
      "[]\n",
      "{0: 40.5342302, 1: -3.4807818}\n",
      "https://api.foursquare.com/v3/places/search?ll=40.5342302,-3.4807818&radius=50000&categories=10019\n",
      "[{'fsq_id': '53fb7963498e41f50c294aea', 'categories': [{'id': 10019, 'name': 'Go Kart Track', 'short_name': 'Go Kart', 'plural_name': 'Go Kart Tracks', 'icon': {'prefix': 'https://ss3.4sqi.net/img/categories_v2/arts_entertainment/racetrack_', 'suffix': '.png'}}], 'chains': [], 'closed_bucket': 'VeryLikelyOpen', 'distance': 21283, 'geocodes': {'main': {'latitude': 40.34727, 'longitude': -3.53541}, 'roof': {'latitude': 40.34727, 'longitude': -3.53541}}, 'link': '/v3/places/53fb7963498e41f50c294aea', 'location': {'address': 'Calle de la Fundición, 89', 'admin_region': 'Comunidad de Madrid', 'country': 'ES', 'cross_street': 'La Tuerca', 'formatted_address': 'Calle de la Fundición, 89 (La Tuerca), 28522 Rivas-Vaciamadrid Comunidad de Madrid', 'locality': 'Rivas-Vaciamadrid', 'postcode': '28522', 'region': 'Comunidad de Madrid'}, 'name': 'KartingRivas', 'related_places': {}, 'timezone': 'Europe/Madrid'}]\n"
     ]
    },
    {
     "data": {
      "text/plain": [
       "{'results': [{'fsq_id': '53fb7963498e41f50c294aea',\n",
       "   'categories': [{'id': 10019,\n",
       "     'name': 'Go Kart Track',\n",
       "     'short_name': 'Go Kart',\n",
       "     'plural_name': 'Go Kart Tracks',\n",
       "     'icon': {'prefix': 'https://ss3.4sqi.net/img/categories_v2/arts_entertainment/racetrack_',\n",
       "      'suffix': '.png'}}],\n",
       "   'chains': [],\n",
       "   'closed_bucket': 'VeryLikelyOpen',\n",
       "   'distance': 21283,\n",
       "   'geocodes': {'main': {'latitude': 40.34727, 'longitude': -3.53541},\n",
       "    'roof': {'latitude': 40.34727, 'longitude': -3.53541}},\n",
       "   'link': '/v3/places/53fb7963498e41f50c294aea',\n",
       "   'location': {'address': 'Calle de la Fundición, 89',\n",
       "    'admin_region': 'Comunidad de Madrid',\n",
       "    'country': 'ES',\n",
       "    'cross_street': 'La Tuerca',\n",
       "    'formatted_address': 'Calle de la Fundición, 89 (La Tuerca), 28522 Rivas-Vaciamadrid Comunidad de Madrid',\n",
       "    'locality': 'Rivas-Vaciamadrid',\n",
       "    'postcode': '28522',\n",
       "    'region': 'Comunidad de Madrid'},\n",
       "   'name': 'KartingRivas',\n",
       "   'related_places': {},\n",
       "   'timezone': 'Europe/Madrid'}]}"
      ]
     },
     "execution_count": 28,
     "metadata": {},
     "output_type": "execute_result"
    }
   ],
   "source": [
    "# url de ejemplo: https://api.foursquare.com/v3/places/search?ll=40.49331%2C-3.87584&radius=50000&categories=10019\n",
    "\n",
    "nuevo_dicc = {}\n",
    "def buscar_localizaciones(diccionario: dict, url: str, distancia: int, categoria: str):\n",
    "    url += \"?\"\n",
    "    url_original = url\n",
    "    contador = 0\n",
    "    for longitudes in diccionario.values():\n",
    "        url = url_original\n",
    "        print(longitudes)\n",
    "        url += f\"ll={longitudes[0]},{longitudes[1]}&radius={distancia}&categories={categoria}\"\n",
    "        print(url)\n",
    "        respuesta = requests.request(\"GET\", url, headers=headers).json()\n",
    "        nuevo_dicc.update({\"results\": respuesta[\"results\"]})\n",
    "        contador += 1\n",
    "        if contador == 2:\n",
    "            return nuevo_dicc\n",
    "\n",
    "buscar_localizaciones(df_latitudes.to_dict(), url, 50000, 10019)"
   ]
  }
 ],
 "metadata": {
  "kernelspec": {
   "display_name": "Python 3",
   "language": "python",
   "name": "python3"
  },
  "language_info": {
   "codemirror_mode": {
    "name": "ipython",
    "version": 3
   },
   "file_extension": ".py",
   "mimetype": "text/x-python",
   "name": "python",
   "nbconvert_exporter": "python",
   "pygments_lexer": "ipython3",
   "version": "3.12.6"
  }
 },
 "nbformat": 4,
 "nbformat_minor": 2
}
